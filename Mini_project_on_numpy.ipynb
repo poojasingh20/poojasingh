{
  "nbformat": 4,
  "nbformat_minor": 0,
  "metadata": {
    "colab": {
      "name": "Mini project on numpy.ipynb",
      "provenance": [],
      "collapsed_sections": []
    },
    "kernelspec": {
      "name": "python3",
      "display_name": "Python 3"
    },
    "language_info": {
      "name": "python"
    }
  },
  "cells": [
    {
      "cell_type": "code",
      "source": [],
      "metadata": {
        "id": "E6NoDc-9IOfR"
      },
      "execution_count": null,
      "outputs": []
    },
    {
      "cell_type": "code",
      "source": [],
      "metadata": {
        "id": "DqSp3-OEIOdQ"
      },
      "execution_count": null,
      "outputs": []
    },
    {
      "cell_type": "code",
      "execution_count": 2,
      "metadata": {
        "id": "OIXCg0YmH2nK"
      },
      "outputs": [],
      "source": [
        "import pandas as pd"
      ]
    },
    {
      "cell_type": "code",
      "source": [
        "covid_data= pd.read_csv(\"/content/03-17-2020.csv\")\n",
        "print(covid_data)"
      ],
      "metadata": {
        "colab": {
          "base_uri": "https://localhost:8080/"
        },
        "id": "NIAiFUiGIPT6",
        "outputId": "df7600fe-48ec-4d5d-a169-9122e5f4ae69"
      },
      "execution_count": 4,
      "outputs": [
        {
          "output_type": "stream",
          "name": "stdout",
          "text": [
            "       Province/State  Country/Region          Last Update  Confirmed  Deaths  \\\n",
            "0               Hubei           China  2020-03-17T11:53:10      67799    3111   \n",
            "1                 NaN           Italy  2020-03-17T18:33:02      31506    2503   \n",
            "2                 NaN            Iran  2020-03-17T15:13:09      16169     988   \n",
            "3                 NaN           Spain  2020-03-17T20:53:02      11748     533   \n",
            "4                 NaN         Germany  2020-03-17T18:53:02       9257      24   \n",
            "..                ...             ...                  ...        ...     ...   \n",
            "303           Unknown         Ukraine  2020-03-17T11:53:10          0       0   \n",
            "304           England  United Kingdom  2020-03-17T11:53:10          0     198   \n",
            "305  Northern Ireland  United Kingdom  2020-03-17T11:53:10          0       0   \n",
            "306          Scotland  United Kingdom  2020-03-17T11:53:10          0      11   \n",
            "307             Wales  United Kingdom  2020-03-17T11:53:10          0       5   \n",
            "\n",
            "     Recovered  Latitude  Longitude  \n",
            "0        56003   30.9756   112.2707  \n",
            "1         2941   41.8719    12.5674  \n",
            "2         5389   32.4279    53.6880  \n",
            "3         1028   40.4637    -3.7492  \n",
            "4           67   51.1657    10.4515  \n",
            "..         ...       ...        ...  \n",
            "303          0       NaN        NaN  \n",
            "304          0   52.3555    -1.1743  \n",
            "305          0   54.7877    -6.4923  \n",
            "306          0   56.4907    -4.2026  \n",
            "307          0   52.1307    -3.7837  \n",
            "\n",
            "[308 rows x 8 columns]\n"
          ]
        }
      ]
    },
    {
      "cell_type": "code",
      "source": [],
      "metadata": {
        "id": "ZdRZ8EyOHIl_"
      },
      "execution_count": null,
      "outputs": []
    },
    {
      "cell_type": "code",
      "source": [
        "print(\"\\nDataset information:\")\n",
        "print(covid_data.info())\n",
        "print(\"\\nMissing data information:\")\n",
        "print(covid_data.isna().sum())"
      ],
      "metadata": {
        "id": "dhSA89tZIuJw",
        "outputId": "e8c3341c-6093-41a1-d704-3397a65ec5b4",
        "colab": {
          "base_uri": "https://localhost:8080/"
        }
      },
      "execution_count": null,
      "outputs": [
        {
          "output_type": "stream",
          "name": "stdout",
          "text": [
            "\n",
            "Dataset information:\n",
            "<class 'pandas.core.frame.DataFrame'>\n",
            "RangeIndex: 308 entries, 0 to 307\n",
            "Data columns (total 8 columns):\n",
            " #   Column          Non-Null Count  Dtype  \n",
            "---  ------          --------------  -----  \n",
            " 0   Province/State  152 non-null    object \n",
            " 1   Country/Region  308 non-null    object \n",
            " 2   Last Update     308 non-null    object \n",
            " 3   Confirmed       308 non-null    int64  \n",
            " 4   Deaths          308 non-null    int64  \n",
            " 5   Recovered       308 non-null    int64  \n",
            " 6   Latitude        305 non-null    float64\n",
            " 7   Longitude       305 non-null    float64\n",
            "dtypes: float64(2), int64(3), object(3)\n",
            "memory usage: 19.4+ KB\n",
            "None\n",
            "\n",
            "Missing data information:\n",
            "Province/State    156\n",
            "Country/Region      0\n",
            "Last Update         0\n",
            "Confirmed           0\n",
            "Deaths              0\n",
            "Recovered           0\n",
            "Latitude            3\n",
            "Longitude           3\n",
            "dtype: int64\n"
          ]
        }
      ]
    },
    {
      "cell_type": "markdown",
      "source": [
        "2. Write a Python program to get the latest number of confirmed, deaths, recovered and active cases of Novel Coronavirus (COVID-19) Country wise."
      ],
      "metadata": {
        "id": "sYbn5yb_C10p"
      }
    },
    {
      "cell_type": "code",
      "source": [
        "covid_data['Active'] = covid_data['Confirmed'] - covid_data['Deaths'] - covid_data['Recovered']\n",
        "result = covid_data.groupby('Country/Region')['Confirmed', 'Deaths', 'Recovered', 'Active'].sum().reset_index()\n",
        "print(result) \n"
      ],
      "metadata": {
        "colab": {
          "base_uri": "https://localhost:8080/"
        },
        "id": "lok1Orq4Eszv",
        "outputId": "4c5754ff-f7c6-48f4-dc2d-76eaf57a5be5"
      },
      "execution_count": null,
      "outputs": [
        {
          "output_type": "stream",
          "name": "stdout",
          "text": [
            "                     Country/Region  Confirmed  Deaths  Recovered  Active\n",
            "0                       Afghanistan         26       0          1      25\n",
            "1                           Albania         55       1          0      54\n",
            "2                           Algeria         60       4         12      44\n",
            "3                           Andorra         39       0          1      38\n",
            "4                        Antarctica          0       0          0       0\n",
            "..                              ...        ...     ...        ...     ...\n",
            "161                      Uzbekistan         10       0          0      10\n",
            "162                       Venezuela         33       0          0      33\n",
            "163                         Vietnam         66       0         16      50\n",
            "164            Winter Olympics 2022          0       0          0       0\n",
            "165  occupied Palestinian territory          0       0          0       0\n",
            "\n",
            "[166 rows x 5 columns]\n"
          ]
        },
        {
          "output_type": "stream",
          "name": "stderr",
          "text": [
            "/usr/local/lib/python3.7/dist-packages/ipykernel_launcher.py:2: FutureWarning: Indexing with multiple keys (implicitly converted to a tuple of keys) will be deprecated, use a list instead.\n",
            "  \n"
          ]
        }
      ]
    },
    {
      "cell_type": "markdown",
      "source": [
        "3. Write a Python program to get the latest number of confirmed deaths and recovered people of Novel Coronavirus (COVID-19) cases Country/Region - Province/State wise\n",
        "\n",
        "\n"
      ],
      "metadata": {
        "id": "nujWwRq2E9IJ"
      }
    },
    {
      "cell_type": "code",
      "source": [
        "data = covid_data.groupby(['Country/Region', 'Province/State'])['Confirmed', 'Deaths', 'Recovered'].max()\n",
        "print(data)"
      ],
      "metadata": {
        "colab": {
          "base_uri": "https://localhost:8080/"
        },
        "id": "7fBrURo2E8Dv",
        "outputId": "aeabdebe-931a-4b98-f26e-b0fc4b841378"
      },
      "execution_count": null,
      "outputs": [
        {
          "output_type": "stream",
          "name": "stdout",
          "text": [
            "                                             Confirmed  Deaths  Recovered\n",
            "Country/Region Province/State                                            \n",
            "Australia      Australian Capital Territory          2       0          0\n",
            "               From Diamond Princess                 0       0          0\n",
            "               New South Wales                     210       4          4\n",
            "               Northern Territory                    1       0          0\n",
            "               Queensland                           78       0          8\n",
            "               South Australia                      29       0          3\n",
            "               Tasmania                              7       0          0\n",
            "               Victoria                             94       0          8\n",
            "               Western Australia                    31       1          0\n",
            "Canada         Alberta                              74       0          0\n",
            "               British Columbia                    103       4          4\n",
            "               Grand Princess                        8       0          0\n",
            "               Manitoba                              8       0          0\n",
            "               New Brunswick                         8       0          0\n",
            "               Newfoundland and Labrador             3       0          0\n",
            "               Nova Scotia                           7       0          0\n",
            "               Ontario                             507       1          5\n",
            "               Prince Edward Island                  1       0          0\n",
            "               Quebec                              128       1          0\n",
            "               Saskatchewan                          7       0          0\n",
            "China          Anhui                               990       6        984\n",
            "               Beijing                             456       8        369\n",
            "               Chongqing                           576       6        570\n",
            "               Fujian                              296       1        295\n",
            "               Gansu                               133       2         91\n",
            "               Guangdong                          1364       8       1307\n",
            "               Guangxi                             253       2        248\n",
            "               Guizhou                             147       2        144\n",
            "               Hainan                              168       6        161\n",
            "               Hebei                               318       6        310\n",
            "               Heilongjiang                        482      13        456\n",
            "               Henan                              1273      22       1250\n",
            "               Hong Kong                           162       4         88\n",
            "               Hubei                             67799    3111      56003\n",
            "               Hunan                              1018       4       1014\n",
            "               Inner Mongolia                       75       1         73\n",
            "               Jiangsu                             631       0        631\n",
            "               Jiangxi                             935       1        934\n",
            "               Jilin                                93       1         92\n",
            "               Liaoning                            125       1        120\n",
            "               Macau                                12       0         10\n",
            "               Ningxia                              75       0         75\n",
            "               Qinghai                              18       0         18\n",
            "               Shaanxi                             246       3        236\n",
            "               Shandong                            761       7        746\n",
            "               Shanghai                            358       3        325\n",
            "               Shanxi                              133       0        133\n",
            "               Sichuan                             540       3        520\n",
            "               Tianjin                             136       3        133\n",
            "               Tibet                                 1       0          1\n",
            "               Unknown                               0       0          0\n",
            "               Xinjiang                             76       3         73\n",
            "               Yunnan                              176       2        172\n",
            "               Zhejiang                           1232       1       1216\n",
            "Cruise Ship    Diamond Princess                    696       7        325\n",
            "Denmark        Denmark                             977       4          1\n",
            "               Faroe Islands                        47       0          0\n",
            "France         France                             7652     148         12\n",
            "               French Guiana                         7       0          0\n",
            "               French Polynesia                      3       0          0\n",
            "               Guadeloupe                            6       0          0\n",
            "               Mayotte                               1       0          0\n",
            "               Reunion                               9       0          0\n",
            "               Saint Barthelemy                      3       0          0\n",
            "               St Martin                             2       0          0\n",
            "Malaysia       Johor                                 0       0          0\n",
            "               Kedah                                 0       0          0\n",
            "               Kelantan                              0       0          0\n",
            "               Melaka                                0       0          0\n",
            "               Negeri Sembilan                       0       0          0\n",
            "               Pahang                                0       0          0\n",
            "               Perak                                 0       0          0\n",
            "               Perlis                                0       0          0\n",
            "               Pulau Pinang                          0       0          0\n",
            "               Sabah                                 0       0          0\n",
            "               Sarawak                               0       0          0\n",
            "               Selangor                              0       0          0\n",
            "               Terengganu                            0       0          0\n",
            "               Unknown                               0       0          0\n",
            "               W.P. Kuala Lumpur                     0       0          0\n",
            "               W.P. Labuan                           0       0          0\n",
            "               W.P. Putrajaya                        0       0          0\n",
            "Netherlands    Curacao                               3       0          0\n",
            "               Netherlands                        1705      43          2\n",
            "New Zealand    Cook Islands                          0       0          0\n",
            "US             Alabama                              39       0          0\n",
            "               Alaska                                3       0          0\n",
            "               Arizona                              20       0          1\n",
            "               Arkansas                             22       0          0\n",
            "               California                          698      12          6\n",
            "               Colorado                            160       2          0\n",
            "               Connecticut                          68       0          0\n",
            "               Delaware                             16       0          0\n",
            "               Diamond Princess                     47       0          0\n",
            "               District of Columbia                 22       0          0\n",
            "               Florida                             216       6          0\n",
            "               Georgia                             146       1          0\n",
            "               Grand Princess                       21       0          0\n",
            "               Guam                                  3       0          0\n",
            "               Hawaii                               10       0          0\n",
            "               Idaho                                 8       0          0\n",
            "               Illinois                            161       1          2\n",
            "               Indiana                              30       2          0\n",
            "               Iowa                                 23       0          0\n",
            "               Kansas                               18       1          0\n",
            "               Kentucky                             26       1          1\n",
            "               Louisiana                           196       4          0\n",
            "               Maine                                32       0          0\n",
            "               Maryland                             60       0          3\n",
            "               Massachusetts                       218       0          1\n",
            "               Michigan                             65       0          0\n",
            "               Minnesota                            60       0          0\n",
            "               Mississippi                          21       0          0\n",
            "               Missouri                             11       0          0\n",
            "               Montana                               9       0          0\n",
            "               Nebraska                             21       0          0\n",
            "               Nevada                               56       1          0\n",
            "               New Hampshire                        26       0          0\n",
            "               New Jersey                          267       3          1\n",
            "               New Mexico                           23       0          0\n",
            "               New York                           1706      13          0\n",
            "               North Carolina                       64       0          0\n",
            "               North Dakota                          3       0          0\n",
            "               Ohio                                 67       0          0\n",
            "               Oklahoma                             19       0          0\n",
            "               Oregon                               66       1          0\n",
            "               Pennsylvania                        112       0          0\n",
            "               Puerto Rico                           5       0          0\n",
            "               Rhode Island                         23       0          0\n",
            "               South Carolina                       47       1          0\n",
            "               South Dakota                         11       1          0\n",
            "               Tennessee                            74       0          0\n",
            "               Texas                               110       1          0\n",
            "               Utah                                 51       0          0\n",
            "               Vermont                              12       0          0\n",
            "               Virgin Islands                        2       0          0\n",
            "               Virginia                             67       2          0\n",
            "               Washington                         1076      55          1\n",
            "               West Virginia                         1       0          0\n",
            "               Wisconsin                            72       0          1\n",
            "               Wyoming                              11       0          0\n",
            "Ukraine        Unknown                               0       0          0\n",
            "United Kingdom Cayman Islands                        1       1          0\n",
            "               Channel Islands                       0       0          0\n",
            "               England                               0     198          0\n",
            "               Gibraltar                             3       0          1\n",
            "               Guernsey                              0       0          0\n",
            "               Jersey                                0       0          0\n",
            "               Northern Ireland                      0       0          0\n",
            "               Scotland                              0      11          0\n",
            "               Unknown                            1950       0         52\n",
            "               Wales                                 0       5          0\n"
          ]
        },
        {
          "output_type": "stream",
          "name": "stderr",
          "text": [
            "/usr/local/lib/python3.7/dist-packages/ipykernel_launcher.py:1: FutureWarning: Indexing with multiple keys (implicitly converted to a tuple of keys) will be deprecated, use a list instead.\n",
            "  \"\"\"Entry point for launching an IPython kernel.\n"
          ]
        }
      ]
    },
    {
      "cell_type": "markdown",
      "source": [
        "4. Write a Python program to get the Chinese province wise cases of confirmed, deaths and recovered cases of Novel Coronavirus (COVID-19). "
      ],
      "metadata": {
        "id": "ol1yPg0GFuOq"
      }
    },
    {
      "cell_type": "code",
      "source": [
        "data = covid_data[covid_data['Country/Region']=='China']\n",
        "data[['Confirmed', 'Deaths', 'Recovered']]\n",
        "result = data.sort_values(by='Confirmed', ascending=False)\n",
        "#result = result.reset_index(drop=True)\n",
        "\n",
        "print(result)"
      ],
      "metadata": {
        "colab": {
          "base_uri": "https://localhost:8080/"
        },
        "id": "PRjOzEvWFz8J",
        "outputId": "f0f13a00-92a5-4e8f-8fb8-efaa0eb839f4"
      },
      "execution_count": null,
      "outputs": [
        {
          "output_type": "stream",
          "name": "stdout",
          "text": [
            "     Province/State Country/Region          Last Update  Confirmed  Deaths  \\\n",
            "0             Hubei          China  2020-03-17T11:53:10      67799    3111   \n",
            "12        Guangdong          China  2020-03-17T01:53:03       1364       8   \n",
            "14            Henan          China  2020-03-14T09:53:08       1273      22   \n",
            "16         Zhejiang          China  2020-03-17T02:13:21       1232       1   \n",
            "19            Hunan          China  2020-03-14T08:33:03       1018       4   \n",
            "20            Anhui          China  2020-03-11T02:18:14        990       6   \n",
            "22          Jiangxi          China  2020-03-12T02:13:04        935       1   \n",
            "24         Shandong          China  2020-03-17T00:33:02        761       7   \n",
            "27          Jiangsu          China  2020-03-15T01:53:02        631       0   \n",
            "28        Chongqing          China  2020-03-15T03:53:04        576       6   \n",
            "29          Sichuan          China  2020-03-17T08:33:02        540       3   \n",
            "30     Heilongjiang          China  2020-03-17T01:33:02        482      13   \n",
            "31          Beijing          China  2020-03-17T10:53:03        456       8   \n",
            "36         Shanghai          China  2020-03-17T02:13:20        358       3   \n",
            "40            Hebei          China  2020-03-13T11:09:03        318       6   \n",
            "41           Fujian          China  2020-03-11T02:18:14        296       1   \n",
            "45          Guangxi          China  2020-03-17T00:33:02        253       2   \n",
            "46          Shaanxi          China  2020-03-17T10:53:03        246       3   \n",
            "63           Yunnan          China  2020-03-16T23:53:02        176       2   \n",
            "66           Hainan          China  2020-03-16T14:38:45        168       6   \n",
            "67        Hong Kong          China  2020-03-17T10:13:11        162       4   \n",
            "71          Guizhou          China  2020-03-17T07:33:03        147       2   \n",
            "75          Tianjin          China  2020-03-15T18:20:18        136       3   \n",
            "76            Gansu          China  2020-03-15T18:20:18        133       2   \n",
            "77           Shanxi          China  2020-03-13T11:09:03        133       0   \n",
            "79         Liaoning          China  2020-03-17T12:13:13        125       1   \n",
            "89            Jilin          China  2020-03-16T00:22:10         93       1   \n",
            "94         Xinjiang          China  2020-03-11T02:18:14         76       3   \n",
            "95   Inner Mongolia          China  2020-03-16T14:38:45         75       1   \n",
            "96          Ningxia          China  2020-03-16T14:38:45         75       0   \n",
            "170         Qinghai          China  2020-03-11T02:18:14         18       0   \n",
            "178           Macau          China  2020-03-17T04:32:18         12       0   \n",
            "246           Tibet          China  2020-03-11T02:18:14          1       0   \n",
            "275         Unknown          China  2020-03-17T11:53:10          0       0   \n",
            "\n",
            "     Recovered  Latitude  Longitude  Active  \n",
            "0        56003   30.9756   112.2707    8685  \n",
            "12        1307   23.3417   113.4244      49  \n",
            "14        1250   33.8820   113.6140       1  \n",
            "16        1216   29.1832   120.0934      15  \n",
            "19        1014   27.6104   111.7088       0  \n",
            "20         984   31.8257   117.2264       0  \n",
            "22         934   27.6140   115.7221       0  \n",
            "24         746   36.3427   118.1498       8  \n",
            "27         631   32.9711   119.4550       0  \n",
            "28         570   30.0572   107.8740       0  \n",
            "29         520   30.6171   102.7103      17  \n",
            "30         456   47.8620   127.7615      13  \n",
            "31         369   40.1824   116.4142      79  \n",
            "36         325   31.2020   121.4491      30  \n",
            "40         310   38.0428   114.5149       2  \n",
            "41         295   26.0789   117.9874       0  \n",
            "45         248   23.8298   108.7881       3  \n",
            "46         236   35.1917   108.8701       7  \n",
            "63         172   24.9740   101.4870       2  \n",
            "66         161   19.1959   109.7453       1  \n",
            "67          88   22.3000   114.2000      70  \n",
            "71         144   26.8154   106.8748       1  \n",
            "75         133   39.3054   117.3230       0  \n",
            "76          91   36.0611   103.8343      40  \n",
            "77         133   37.5777   112.2922       0  \n",
            "79         120   41.2956   122.6085       4  \n",
            "89          92   43.6661   126.1923       0  \n",
            "94          73   41.1129    85.2401       0  \n",
            "95          73   44.0935   113.9448       1  \n",
            "96          75   37.2692   106.1655       0  \n",
            "170         18   35.7452    95.9956       0  \n",
            "178         10   22.1667   113.5500       2  \n",
            "246          1   31.6927    88.0924       0  \n",
            "275          0       NaN        NaN       0  \n"
          ]
        }
      ]
    },
    {
      "cell_type": "markdown",
      "source": [
        "5. Write a Python program to get the latest country wise deaths cases of Novel Coronavirus (COVID-19)."
      ],
      "metadata": {
        "id": "dLyYTFfgHWXr"
      }
    },
    {
      "cell_type": "code",
      "source": [
        "#data = covid_data.groupby('Country/Region')['Confirmed', 'Deaths', 'Recovered', 'Active'].sum().reset_index()\n",
        "result = data[data['Deaths']>0][['Country/Region', 'Deaths']]\n",
        "print(result) "
      ],
      "metadata": {
        "colab": {
          "base_uri": "https://localhost:8080/"
        },
        "id": "3a3o_pilHhn4",
        "outputId": "e867c436-f088-470b-b34a-d4a61eaa901b"
      },
      "execution_count": null,
      "outputs": [
        {
          "output_type": "stream",
          "name": "stdout",
          "text": [
            "         Country/Region  Deaths\n",
            "1               Albania       1\n",
            "2               Algeria       4\n",
            "6             Argentina       2\n",
            "9             Australia       5\n",
            "10              Austria       3\n",
            "11           Azerbaijan       1\n",
            "12              Bahrain       1\n",
            "16              Belgium      10\n",
            "21               Brazil       1\n",
            "23             Bulgaria       2\n",
            "27               Canada       6\n",
            "30                China    3230\n",
            "37          Cruise Ship       7\n",
            "41              Denmark       4\n",
            "42   Dominican Republic       1\n",
            "43              Ecuador       2\n",
            "44                Egypt       4\n",
            "49              Finland       4\n",
            "50               France     148\n",
            "54              Germany      24\n",
            "56               Greece       5\n",
            "60            Guatemala       1\n",
            "63               Guyana       1\n",
            "66              Hungary       1\n",
            "67              Iceland       1\n",
            "68                India       3\n",
            "69            Indonesia       5\n",
            "70                 Iran     988\n",
            "71                 Iraq      11\n",
            "72              Ireland       2\n",
            "74                Italy    2503\n",
            "76                Japan      29\n",
            "83         Korea, South      81\n",
            "87              Lebanon       3\n",
            "91           Luxembourg       1\n",
            "95           Martinique       1\n",
            "103             Morocco       2\n",
            "106         Netherlands      43\n",
            "110              Norway       3\n",
            "114              Panama       1\n",
            "116                Peru       9\n",
            "117         Philippines      12\n",
            "118              Poland       5\n",
            "119            Portugal       1\n",
            "129          San Marino       9\n",
            "136            Slovenia       1\n",
            "139               Spain     533\n",
            "141               Sudan       1\n",
            "144              Sweden       7\n",
            "145         Switzerland      40\n",
            "146             Taiwan*       1\n",
            "148            Thailand       1\n",
            "155              Turkey       1\n",
            "156                  US     108\n",
            "157             Ukraine       2\n",
            "159      United Kingdom     215\n"
          ]
        }
      ]
    },
    {
      "cell_type": "markdown",
      "source": [
        "6. Write a Python program to list countries with no cases of Novel Coronavirus (COVID-19) recovered. "
      ],
      "metadata": {
        "id": "0ECq8hFlIs_V"
      }
    },
    {
      "cell_type": "code",
      "source": [
        "result = data[data['Recovered']==0][['Country/Region', 'Recovered']]\n",
        "print(result) "
      ],
      "metadata": {
        "colab": {
          "base_uri": "https://localhost:8080/"
        },
        "id": "S00dWtv3IzaA",
        "outputId": "14ce47bc-e2fc-4683-f59d-6aebea2d336c"
      },
      "execution_count": null,
      "outputs": [
        {
          "output_type": "stream",
          "name": "stdout",
          "text": [
            "                       Country/Region  Recovered\n",
            "1                             Albania          0\n",
            "4                          Antarctica          0\n",
            "5                 Antigua and Barbuda          0\n",
            "8                               Aruba          0\n",
            "14                           Barbados          0\n",
            "17                              Benin          0\n",
            "18                             Bhutan          0\n",
            "19                            Bolivia          0\n",
            "22                             Brunei          0\n",
            "23                           Bulgaria          0\n",
            "24                       Burkina Faso          0\n",
            "26                           Cameroon          0\n",
            "28           Central African Republic          0\n",
            "29                              Chile          0\n",
            "32                Congo (Brazzaville)          0\n",
            "33                   Congo (Kinshasa)          0\n",
            "34                         Costa Rica          0\n",
            "38                               Cuba          0\n",
            "39                             Cyprus          0\n",
            "42                 Dominican Republic          0\n",
            "43                            Ecuador          0\n",
            "45                  Equatorial Guinea          0\n",
            "47                           Eswatini          0\n",
            "48                           Ethiopia          0\n",
            "51                      French Guiana          0\n",
            "52                              Gabon          0\n",
            "55                              Ghana          0\n",
            "57                          Greenland          0\n",
            "58                         Guadeloupe          0\n",
            "59                               Guam          0\n",
            "60                          Guatemala          0\n",
            "61                           Guernsey          0\n",
            "62                             Guinea          0\n",
            "63                             Guyana          0\n",
            "64                           Holy See          0\n",
            "65                           Honduras          0\n",
            "67                            Iceland          0\n",
            "77                             Jersey          0\n",
            "79                         Kazakhstan          0\n",
            "80                              Kenya          0\n",
            "81                           Kiribati          0\n",
            "82                       Korea, North          0\n",
            "84                             Kosovo          0\n",
            "88                            Liberia          0\n",
            "89                      Liechtenstein          0\n",
            "91                         Luxembourg          0\n",
            "92                           Malaysia          0\n",
            "93                           Maldives          0\n",
            "95                         Martinique          0\n",
            "96                         Mauritania          0\n",
            "97                            Mayotte          0\n",
            "100                            Monaco          0\n",
            "101                          Mongolia          0\n",
            "102                        Montenegro          0\n",
            "104                           Namibia          0\n",
            "107                       New Zealand          0\n",
            "108                           Nigeria          0\n",
            "113                             Palau          0\n",
            "114                            Panama          0\n",
            "115                          Paraguay          0\n",
            "120                       Puerto Rico          0\n",
            "122             Republic of the Congo          0\n",
            "123                           Reunion          0\n",
            "126                            Rwanda          0\n",
            "127                       Saint Lucia          0\n",
            "128  Saint Vincent and the Grenadines          0\n",
            "133                        Seychelles          0\n",
            "135                          Slovakia          0\n",
            "136                          Slovenia          0\n",
            "137                           Somalia          0\n",
            "138                      South Africa          0\n",
            "141                             Sudan          0\n",
            "142              Summer Olympics 2020          0\n",
            "143                          Suriname          0\n",
            "147                          Tanzania          0\n",
            "149                       The Bahamas          0\n",
            "150                        The Gambia          0\n",
            "151                              Togo          0\n",
            "152                             Tonga          0\n",
            "153               Trinidad and Tobago          0\n",
            "154                           Tunisia          0\n",
            "155                            Turkey          0\n",
            "157                           Ukraine          0\n",
            "160                           Uruguay          0\n",
            "161                        Uzbekistan          0\n",
            "162                         Venezuela          0\n",
            "164              Winter Olympics 2022          0\n",
            "165    occupied Palestinian territory          0\n"
          ]
        }
      ]
    },
    {
      "cell_type": "markdown",
      "source": [],
      "metadata": {
        "id": "pmsfkd5VJaoa"
      }
    },
    {
      "cell_type": "markdown",
      "source": [
        "7. Write a Python program to list countries with all cases of Novel Coronavirus (COVID-19) died."
      ],
      "metadata": {
        "id": "RLqOUUvVJare"
      }
    },
    {
      "cell_type": "code",
      "source": [
        "#data = covid_data.groupby('Country/Region')['Confirmed', 'Deaths', 'Recovered'].sum().reset_index()\n",
        "result = data[data['Confirmed']==data['Deaths']]\n",
        "result = result[['Country/Region', 'Confirmed', 'Deaths']]\n",
        "#result = result.sort_values('Confirmed', ascending=False)\n",
        "result = result[result['Confirmed']>0]\n",
        "#result = result.reset_index(drop=True)\n",
        "print(result)\n"
      ],
      "metadata": {
        "colab": {
          "base_uri": "https://localhost:8080/"
        },
        "id": "jPNbMsXlJb_y",
        "outputId": "90bf7af7-0c3f-458a-b4db-e33febf31fae"
      },
      "execution_count": null,
      "outputs": [
        {
          "output_type": "stream",
          "name": "stdout",
          "text": [
            "    Country/Region  Confirmed  Deaths\n",
            "141          Sudan          1       1\n"
          ]
        }
      ]
    },
    {
      "cell_type": "markdown",
      "source": [
        "8. Write a Python program to list countries with all cases of Novel Coronavirus (COVID-19) recovered."
      ],
      "metadata": {
        "id": "v3_QZhY6KVFs"
      }
    },
    {
      "cell_type": "code",
      "source": [
        "result = data[data['Confirmed']==data['Recovered']]\n",
        "result = result[['Country/Region', 'Confirmed', 'Recovered']]\n",
        "result = result[result['Confirmed']>0]\n",
        "print(result)\n"
      ],
      "metadata": {
        "colab": {
          "base_uri": "https://localhost:8080/"
        },
        "id": "2fhQTBLbKZfO",
        "outputId": "896e0569-42a2-468f-dea3-105ae940873e"
      },
      "execution_count": null,
      "outputs": [
        {
          "output_type": "stream",
          "name": "stdout",
          "text": [
            "    Country/Region  Confirmed  Recovered\n",
            "105          Nepal          1          1\n"
          ]
        }
      ]
    },
    {
      "cell_type": "markdown",
      "source": [
        "9. Write a Python program to get the top 10 countries data (Last Update, Country/Region, Confirmed, Deaths, Recovered) of Novel Coronavirus (COVID-19)."
      ],
      "metadata": {
        "id": "cb7fu5PoK6Ke"
      }
    },
    {
      "cell_type": "code",
      "source": [
        "result = covid_data.groupby('Country/Region').max().sort_values(by='Confirmed', ascending=False)[:10]\n",
        "print(result)"
      ],
      "metadata": {
        "colab": {
          "base_uri": "https://localhost:8080/"
        },
        "id": "c-I6KIpBKZg1",
        "outputId": "679c716a-b92e-4e07-d402-573152000c30"
      },
      "execution_count": null,
      "outputs": [
        {
          "output_type": "stream",
          "name": "stdout",
          "text": [
            "                        Last Update  Confirmed  Deaths  Recovered  Latitude  \\\n",
            "Country/Region                                                                \n",
            "China           2020-03-17T12:13:13      67799    3111      56003   47.8620   \n",
            "Italy           2020-03-17T18:33:02      31506    2503       2941   41.8719   \n",
            "Iran            2020-03-17T15:13:09      16169     988       5389   32.4279   \n",
            "Spain           2020-03-17T20:53:02      11748     533       1028   40.4637   \n",
            "Germany         2020-03-17T18:53:02       9257      24         67   51.1657   \n",
            "Korea, South    2020-03-17T10:33:03       8320      81       1407   35.9078   \n",
            "France          2020-03-17T19:13:08       7652     148         12   46.2276   \n",
            "Switzerland     2020-03-17T16:33:04       2700      40          4   46.8182   \n",
            "United Kingdom  2020-03-17T15:13:09       1950     198         52   56.4907   \n",
            "US              2020-03-17T23:53:03       1706      55          6   61.3707   \n",
            "\n",
            "                Longitude  Active  \n",
            "Country/Region                     \n",
            "China            127.7615    8685  \n",
            "Italy             12.5674   26062  \n",
            "Iran              53.6880    9792  \n",
            "Spain             -3.7492   10187  \n",
            "Germany           10.4515    9166  \n",
            "Korea, South     127.7669    6832  \n",
            "France            55.2471    7492  \n",
            "Switzerland        8.2275    2656  \n",
            "United Kingdom    -1.1743    1898  \n",
            "US               144.7937    1693  \n"
          ]
        },
        {
          "output_type": "stream",
          "name": "stderr",
          "text": [
            "/usr/local/lib/python3.7/dist-packages/ipykernel_launcher.py:1: FutureWarning: Dropping invalid columns in DataFrameGroupBy.max is deprecated. In a future version, a TypeError will be raised. Before calling .max, select only columns which should be valid for the function.\n",
            "  \"\"\"Entry point for launching an IPython kernel.\n"
          ]
        }
      ]
    },
    {
      "cell_type": "markdown",
      "source": [
        "10. Write a Python program to create a plot (lines) of total deaths, confirmed, recovered and active cases Country wise where deaths greater than 150."
      ],
      "metadata": {
        "id": "y8ppUu0qL2Ny"
      }
    },
    {
      "cell_type": "code",
      "source": [
        "import matplotlib.pyplot as plt"
      ],
      "metadata": {
        "id": "b212XsZNL6Kv"
      },
      "execution_count": null,
      "outputs": []
    },
    {
      "cell_type": "code",
      "source": [
        "data = data.sort_values(by='Deaths', ascending=False)\n",
        "r_data = data[data['Deaths']>150]\n",
        "print(r_data)"
      ],
      "metadata": {
        "colab": {
          "base_uri": "https://localhost:8080/"
        },
        "id": "4qAXQbnRMF_i",
        "outputId": "17ba11ca-87d4-4ef1-a04d-e5ec008d5cee"
      },
      "execution_count": null,
      "outputs": [
        {
          "output_type": "stream",
          "name": "stdout",
          "text": [
            "     Country/Region  Confirmed  Deaths  Recovered\n",
            "30            China      81058    3230      68798\n",
            "74            Italy      31506    2503       2941\n",
            "70             Iran      16169     988       5389\n",
            "139           Spain      11748     533       1028\n",
            "159  United Kingdom       1954     215         53\n"
          ]
        }
      ]
    },
    {
      "cell_type": "code",
      "source": [
        "plt.figure(figsize=(15, 5))\n",
        "plt.plot(r_data['Country/Region'], r_data['Deaths'],color='red')\n",
        "plt.plot(r_data['Country/Region'], r_data['Confirmed'],color='green')\n",
        "plt.plot(r_data['Country/Region'], r_data['Recovered'], color='blue')\n",
        "#plt.plot(r_data['Country/Region'], r_data['Active'], color='black')\n",
        " \n",
        "plt.title('Total Deaths(>150), Confirmed, Recovered and Active Cases by Country')\n",
        "plt.show()"
      ],
      "metadata": {
        "colab": {
          "base_uri": "https://localhost:8080/",
          "height": 336
        },
        "id": "hE3cQR1JMuYb",
        "outputId": "3603b813-9534-47dd-892f-63ed75c57feb"
      },
      "execution_count": null,
      "outputs": [
        {
          "output_type": "display_data",
          "data": {
            "text/plain": [
              "<Figure size 1080x360 with 1 Axes>"
            ],
            "image/png": "[encoded data removed]"
          },
          "metadata": {
            "needs_background": "light"
          }
        }
      ]
    },
    {
      "cell_type": "code",
      "source": [
        "import plotly.express as px\n",
        "import plotly.io as pio\n",
        "pio.templates.default = \"plotly_dark\"\n",
        " "
      ],
      "metadata": {
        "id": "U-BHc5rPK2Mr"
      },
      "execution_count": 8,
      "outputs": []
    },
    {
      "cell_type": "code",
      "source": [
        "grouped = covid_data.groupby('Last Update')['Last Update', 'Confirmed', 'Deaths'].sum().reset_index()\n",
        "fig = px.line(grouped, x=\"Last Update\", y=\"Confirmed\",\n",
        "             title=\"Worldwide Confirmed Novel Coronavirus(COVID-19) Cases Over Time\")\n",
        "fig.show()"
      ],
      "metadata": {
        "colab": {
          "base_uri": "https://localhost:8080/",
          "height": 598
        },
        "id": "Jpry42SiK_m_",
        "outputId": "91cf8521-227b-4806-cefe-04a02393a6fc"
      },
      "execution_count": 9,
      "outputs": [
        {
          "output_type": "stream",
          "name": "stderr",
          "text": [
            "/usr/local/lib/python3.7/dist-packages/ipykernel_launcher.py:1: FutureWarning: Indexing with multiple keys (implicitly converted to a tuple of keys) will be deprecated, use a list instead.\n",
            "  \"\"\"Entry point for launching an IPython kernel.\n"
          ]
        },
        {
          "output_type": "display_data",
          "data": {
            "text/html": [
              "<html>\n",
              "<head><meta charset=\"utf-8\" /></head>\n",
              "<body>\n",
              "    <div>            <script src=\"https://cdnjs.cloudflare.com/ajax/libs/mathjax/2.7.5/MathJax.js?config=TeX-AMS-MML_SVG\"></script><script type=\"text/javascript\">if (window.MathJax) {MathJax.Hub.Config({SVG: {font: \"STIX-Web\"}});}</script>                <script type=\"text/javascript\">window.PlotlyConfig = {MathJaxConfig: 'local'};</script>\n",
              "        <script src=\"https://cdn.plot.ly/plotly-2.8.3.min.js\"></script>                <div id=\"2e2b6751-5ecc-405b-be31-41056eae39fa\" class=\"plotly-graph-div\" style=\"height:525px; width:100%;\"></div>            <script type=\"text/javascript\">                                    window.PLOTLYENV=window.PLOTLYENV || {};                                    if (document.getElementById(\"2e2b6751-5ecc-405b-be31-41056eae39fa\")) {                    Plotly.newPlot(                        \"2e2b6751-5ecc-405b-be31-41056eae39fa\",                        [{\"hovertemplate\":\"Last Update=%{x}<br>Confirmed=%{y}<extra></extra>\",\"legendgroup\":\"\",\"line\":{\"color\":\"#636efa\",\"dash\":\"solid\"},\"marker\":{\"symbol\":\"circle\"},\"mode\":\"lines\",\"name\":\"\",\"orientation\":\"v\",\"showlegend\":false,\"x\":[\"2020-03-11T02:18:14\",\"2020-03-11T20:53:02\",\"2020-03-12T02:13:04\",\"2020-03-13T11:09:03\",\"2020-03-13T14:13:25\",\"2020-03-13T22:22:02\",\"2020-03-13T22:22:03\",\"2020-03-14T01:13:32\",\"2020-03-14T01:53:03\",\"2020-03-14T02:33:04\",\"2020-03-14T08:33:03\",\"2020-03-14T09:53:08\",\"2020-03-14T13:33:04\",\"2020-03-14T16:33:03\",\"2020-03-15T01:53:02\",\"2020-03-15T02:13:21\",\"2020-03-15T03:53:04\",\"2020-03-15T06:41:54\",\"2020-03-15T18:20:18\",\"2020-03-15T18:20:19\",\"2020-03-16T00:22:10\",\"2020-03-16T00:22:11\",\"2020-03-16T01:33:03\",\"2020-03-16T02:13:16\",\"2020-03-16T03:33:03\",\"2020-03-16T14:38:45\",\"2020-03-16T14:38:46\",\"2020-03-16T14:53:04\",\"2020-03-16T15:13:09\",\"2020-03-16T16:53:06\",\"2020-03-16T17:13:23\",\"2020-03-16T19:13:13\",\"2020-03-16T20:13:20\",\"2020-03-16T23:53:02\",\"2020-03-16T23:53:03\",\"2020-03-17T00:33:02\",\"2020-03-17T01:33:02\",\"2020-03-17T01:33:03\",\"2020-03-17T01:53:03\",\"2020-03-17T02:13:20\",\"2020-03-17T02:13:21\",\"2020-03-17T02:13:34\",\"2020-03-17T02:13:54\",\"2020-03-17T02:33:10\",\"2020-03-17T02:53:03\",\"2020-03-17T03:13:15\",\"2020-03-17T03:13:18\",\"2020-03-17T04:32:18\",\"2020-03-17T04:32:19\",\"2020-03-17T07:15:25\",\"2020-03-17T07:33:03\",\"2020-03-17T08:13:11\",\"2020-03-17T08:13:22\",\"2020-03-17T08:33:02\",\"2020-03-17T10:13:11\",\"2020-03-17T10:13:13\",\"2020-03-17T10:33:03\",\"2020-03-17T10:53:03\",\"2020-03-17T11:13:18\",\"2020-03-17T11:13:29\",\"2020-03-17T11:33:05\",\"2020-03-17T11:53:10\",\"2020-03-17T12:13:13\",\"2020-03-17T12:13:16\",\"2020-03-17T12:33:06\",\"2020-03-17T12:33:07\",\"2020-03-17T12:53:09\",\"2020-03-17T14:33:05\",\"2020-03-17T15:13:09\",\"2020-03-17T15:13:11\",\"2020-03-17T15:33:06\",\"2020-03-17T15:53:12\",\"2020-03-17T15:53:13\",\"2020-03-17T16:13:14\",\"2020-03-17T16:33:04\",\"2020-03-17T16:53:04\",\"2020-03-17T17:33:03\",\"2020-03-17T17:53:03\",\"2020-03-17T18:13:10\",\"2020-03-17T18:33:02\",\"2020-03-17T18:33:03\",\"2020-03-17T18:53:02\",\"2020-03-17T19:13:08\",\"2020-03-17T19:33:02\",\"2020-03-17T19:33:03\",\"2020-03-17T19:53:02\",\"2020-03-17T20:13:22\",\"2020-03-17T20:53:02\",\"2020-03-17T21:33:02\",\"2020-03-17T21:33:03\",\"2020-03-17T22:13:16\",\"2020-03-17T22:53:02\",\"2020-03-17T22:53:03\",\"2020-03-17T23:13:10\",\"2020-03-17T23:33:02\",\"2020-03-17T23:33:03\",\"2020-03-17T23:53:03\"],\"xaxis\":\"x\",\"y\":[1381,0,935,451,696,3,1,1,1,0,1018,1273,1,6,631,1,576,3,282,10,93,106,102,3,2,460,51,1,439,48,34,103,7,176,45,1014,482,1,1364,358,1232,72,29,7,226,427,82,12,2,9,160,77,21,540,162,47,9265,1276,65,176,33,67939,125,81,453,294,125,5,18119,1705,5956,750,57,62,4064,1660,22,327,196,31506,0,9257,7652,99,151,1463,662,12636,2,0,47,218,2921,587,349,1076,11],\"yaxis\":\"y\",\"type\":\"scatter\"}],                        {\"template\":{\"data\":{\"bar\":[{\"error_x\":{\"color\":\"#f2f5fa\"},\"error_y\":{\"color\":\"#f2f5fa\"},\"marker\":{\"line\":{\"color\":\"rgb(17,17,17)\",\"width\":0.5},\"pattern\":{\"fillmode\":\"overlay\",\"size\":10,\"solidity\":0.2}},\"type\":\"bar\"}],\"barpolar\":[{\"marker\":{\"line\":{\"color\":\"rgb(17,17,17)\",\"width\":0.5},\"pattern\":{\"fillmode\":\"overlay\",\"size\":10,\"solidity\":0.2}},\"type\":\"barpolar\"}],\"carpet\":[{\"aaxis\":{\"endlinecolor\":\"#A2B1C6\",\"gridcolor\":\"#506784\",\"linecolor\":\"#506784\",\"minorgridcolor\":\"#506784\",\"startlinecolor\":\"#A2B1C6\"},\"baxis\":{\"endlinecolor\":\"#A2B1C6\",\"gridcolor\":\"#506784\",\"linecolor\":\"#506784\",\"minorgridcolor\":\"#506784\",\"startlinecolor\":\"#A2B1C6\"},\"type\":\"carpet\"}],\"choropleth\":[{\"colorbar\":{\"outlinewidth\":0,\"ticks\":\"\"},\"type\":\"choropleth\"}],\"contour\":[{\"colorbar\":{\"outlinewidth\":0,\"ticks\":\"\"},\"colorscale\":[[0.0,\"#0d0887\"],[0.1111111111111111,\"#46039f\"],[0.2222222222222222,\"#7201a8\"],[0.3333333333333333,\"#9c179e\"],[0.4444444444444444,\"#bd3786\"],[0.5555555555555556,\"#d8576b\"],[0.6666666666666666,\"#ed7953\"],[0.7777777777777778,\"#fb9f3a\"],[0.8888888888888888,\"#fdca26\"],[1.0,\"#f0f921\"]],\"type\":\"contour\"}],\"contourcarpet\":[{\"colorbar\":{\"outlinewidth\":0,\"ticks\":\"\"},\"type\":\"contourcarpet\"}],\"heatmap\":[{\"colorbar\":{\"outlinewidth\":0,\"ticks\":\"\"},\"colorscale\":[[0.0,\"#0d0887\"],[0.1111111111111111,\"#46039f\"],[0.2222222222222222,\"#7201a8\"],[0.3333333333333333,\"#9c179e\"],[0.4444444444444444,\"#bd3786\"],[0.5555555555555556,\"#d8576b\"],[0.6666666666666666,\"#ed7953\"],[0.7777777777777778,\"#fb9f3a\"],[0.8888888888888888,\"#fdca26\"],[1.0,\"#f0f921\"]],\"type\":\"heatmap\"}],\"heatmapgl\":[{\"colorbar\":{\"outlinewidth\":0,\"ticks\":\"\"},\"colorscale\":[[0.0,\"#0d0887\"],[0.1111111111111111,\"#46039f\"],[0.2222222222222222,\"#7201a8\"],[0.3333333333333333,\"#9c179e\"],[0.4444444444444444,\"#bd3786\"],[0.5555555555555556,\"#d8576b\"],[0.6666666666666666,\"#ed7953\"],[0.7777777777777778,\"#fb9f3a\"],[0.8888888888888888,\"#fdca26\"],[1.0,\"#f0f921\"]],\"type\":\"heatmapgl\"}],\"histogram\":[{\"marker\":{\"pattern\":{\"fillmode\":\"overlay\",\"size\":10,\"solidity\":0.2}},\"type\":\"histogram\"}],\"histogram2d\":[{\"colorbar\":{\"outlinewidth\":0,\"ticks\":\"\"},\"colorscale\":[[0.0,\"#0d0887\"],[0.1111111111111111,\"#46039f\"],[0.2222222222222222,\"#7201a8\"],[0.3333333333333333,\"#9c179e\"],[0.4444444444444444,\"#bd3786\"],[0.5555555555555556,\"#d8576b\"],[0.6666666666666666,\"#ed7953\"],[0.7777777777777778,\"#fb9f3a\"],[0.8888888888888888,\"#fdca26\"],[1.0,\"#f0f921\"]],\"type\":\"histogram2d\"}],\"histogram2dcontour\":[{\"colorbar\":{\"outlinewidth\":0,\"ticks\":\"\"},\"colorscale\":[[0.0,\"#0d0887\"],[0.1111111111111111,\"#46039f\"],[0.2222222222222222,\"#7201a8\"],[0.3333333333333333,\"#9c179e\"],[0.4444444444444444,\"#bd3786\"],[0.5555555555555556,\"#d8576b\"],[0.6666666666666666,\"#ed7953\"],[0.7777777777777778,\"#fb9f3a\"],[0.8888888888888888,\"#fdca26\"],[1.0,\"#f0f921\"]],\"type\":\"histogram2dcontour\"}],\"mesh3d\":[{\"colorbar\":{\"outlinewidth\":0,\"ticks\":\"\"},\"type\":\"mesh3d\"}],\"parcoords\":[{\"line\":{\"colorbar\":{\"outlinewidth\":0,\"ticks\":\"\"}},\"type\":\"parcoords\"}],\"pie\":[{\"automargin\":true,\"type\":\"pie\"}],\"scatter\":[{\"marker\":{\"line\":{\"color\":\"#283442\"}},\"type\":\"scatter\"}],\"scatter3d\":[{\"line\":{\"colorbar\":{\"outlinewidth\":0,\"ticks\":\"\"}},\"marker\":{\"colorbar\":{\"outlinewidth\":0,\"ticks\":\"\"}},\"type\":\"scatter3d\"}],\"scattercarpet\":[{\"marker\":{\"colorbar\":{\"outlinewidth\":0,\"ticks\":\"\"}},\"type\":\"scattercarpet\"}],\"scattergeo\":[{\"marker\":{\"colorbar\":{\"outlinewidth\":0,\"ticks\":\"\"}},\"type\":\"scattergeo\"}],\"scattergl\":[{\"marker\":{\"line\":{\"color\":\"#283442\"}},\"type\":\"scattergl\"}],\"scattermapbox\":[{\"marker\":{\"colorbar\":{\"outlinewidth\":0,\"ticks\":\"\"}},\"type\":\"scattermapbox\"}],\"scatterpolar\":[{\"marker\":{\"colorbar\":{\"outlinewidth\":0,\"ticks\":\"\"}},\"type\":\"scatterpolar\"}],\"scatterpolargl\":[{\"marker\":{\"colorbar\":{\"outlinewidth\":0,\"ticks\":\"\"}},\"type\":\"scatterpolargl\"}],\"scatterternary\":[{\"marker\":{\"colorbar\":{\"outlinewidth\":0,\"ticks\":\"\"}},\"type\":\"scatterternary\"}],\"surface\":[{\"colorbar\":{\"outlinewidth\":0,\"ticks\":\"\"},\"colorscale\":[[0.0,\"#0d0887\"],[0.1111111111111111,\"#46039f\"],[0.2222222222222222,\"#7201a8\"],[0.3333333333333333,\"#9c179e\"],[0.4444444444444444,\"#bd3786\"],[0.5555555555555556,\"#d8576b\"],[0.6666666666666666,\"#ed7953\"],[0.7777777777777778,\"#fb9f3a\"],[0.8888888888888888,\"#fdca26\"],[1.0,\"#f0f921\"]],\"type\":\"surface\"}],\"table\":[{\"cells\":{\"fill\":{\"color\":\"#506784\"},\"line\":{\"color\":\"rgb(17,17,17)\"}},\"header\":{\"fill\":{\"color\":\"#2a3f5f\"},\"line\":{\"color\":\"rgb(17,17,17)\"}},\"type\":\"table\"}]},\"layout\":{\"annotationdefaults\":{\"arrowcolor\":\"#f2f5fa\",\"arrowhead\":0,\"arrowwidth\":1},\"autotypenumbers\":\"strict\",\"coloraxis\":{\"colorbar\":{\"outlinewidth\":0,\"ticks\":\"\"}},\"colorscale\":{\"diverging\":[[0,\"#8e0152\"],[0.1,\"#c51b7d\"],[0.2,\"#de77ae\"],[0.3,\"#f1b6da\"],[0.4,\"#fde0ef\"],[0.5,\"#f7f7f7\"],[0.6,\"#e6f5d0\"],[0.7,\"#b8e186\"],[0.8,\"#7fbc41\"],[0.9,\"#4d9221\"],[1,\"#276419\"]],\"sequential\":[[0.0,\"#0d0887\"],[0.1111111111111111,\"#46039f\"],[0.2222222222222222,\"#7201a8\"],[0.3333333333333333,\"#9c179e\"],[0.4444444444444444,\"#bd3786\"],[0.5555555555555556,\"#d8576b\"],[0.6666666666666666,\"#ed7953\"],[0.7777777777777778,\"#fb9f3a\"],[0.8888888888888888,\"#fdca26\"],[1.0,\"#f0f921\"]],\"sequentialminus\":[[0.0,\"#0d0887\"],[0.1111111111111111,\"#46039f\"],[0.2222222222222222,\"#7201a8\"],[0.3333333333333333,\"#9c179e\"],[0.4444444444444444,\"#bd3786\"],[0.5555555555555556,\"#d8576b\"],[0.6666666666666666,\"#ed7953\"],[0.7777777777777778,\"#fb9f3a\"],[0.8888888888888888,\"#fdca26\"],[1.0,\"#f0f921\"]]},\"colorway\":[\"#636efa\",\"#EF553B\",\"#00cc96\",\"#ab63fa\",\"#FFA15A\",\"#19d3f3\",\"#FF6692\",\"#B6E880\",\"#FF97FF\",\"#FECB52\"],\"font\":{\"color\":\"#f2f5fa\"},\"geo\":{\"bgcolor\":\"rgb(17,17,17)\",\"lakecolor\":\"rgb(17,17,17)\",\"landcolor\":\"rgb(17,17,17)\",\"showlakes\":true,\"showland\":true,\"subunitcolor\":\"#506784\"},\"hoverlabel\":{\"align\":\"left\"},\"hovermode\":\"closest\",\"mapbox\":{\"style\":\"dark\"},\"paper_bgcolor\":\"rgb(17,17,17)\",\"plot_bgcolor\":\"rgb(17,17,17)\",\"polar\":{\"angularaxis\":{\"gridcolor\":\"#506784\",\"linecolor\":\"#506784\",\"ticks\":\"\"},\"bgcolor\":\"rgb(17,17,17)\",\"radialaxis\":{\"gridcolor\":\"#506784\",\"linecolor\":\"#506784\",\"ticks\":\"\"}},\"scene\":{\"xaxis\":{\"backgroundcolor\":\"rgb(17,17,17)\",\"gridcolor\":\"#506784\",\"gridwidth\":2,\"linecolor\":\"#506784\",\"showbackground\":true,\"ticks\":\"\",\"zerolinecolor\":\"#C8D4E3\"},\"yaxis\":{\"backgroundcolor\":\"rgb(17,17,17)\",\"gridcolor\":\"#506784\",\"gridwidth\":2,\"linecolor\":\"#506784\",\"showbackground\":true,\"ticks\":\"\",\"zerolinecolor\":\"#C8D4E3\"},\"zaxis\":{\"backgroundcolor\":\"rgb(17,17,17)\",\"gridcolor\":\"#506784\",\"gridwidth\":2,\"linecolor\":\"#506784\",\"showbackground\":true,\"ticks\":\"\",\"zerolinecolor\":\"#C8D4E3\"}},\"shapedefaults\":{\"line\":{\"color\":\"#f2f5fa\"}},\"sliderdefaults\":{\"bgcolor\":\"#C8D4E3\",\"bordercolor\":\"rgb(17,17,17)\",\"borderwidth\":1,\"tickwidth\":0},\"ternary\":{\"aaxis\":{\"gridcolor\":\"#506784\",\"linecolor\":\"#506784\",\"ticks\":\"\"},\"baxis\":{\"gridcolor\":\"#506784\",\"linecolor\":\"#506784\",\"ticks\":\"\"},\"bgcolor\":\"rgb(17,17,17)\",\"caxis\":{\"gridcolor\":\"#506784\",\"linecolor\":\"#506784\",\"ticks\":\"\"}},\"title\":{\"x\":0.05},\"updatemenudefaults\":{\"bgcolor\":\"#506784\",\"borderwidth\":0},\"xaxis\":{\"automargin\":true,\"gridcolor\":\"#283442\",\"linecolor\":\"#506784\",\"ticks\":\"\",\"title\":{\"standoff\":15},\"zerolinecolor\":\"#283442\",\"zerolinewidth\":2},\"yaxis\":{\"automargin\":true,\"gridcolor\":\"#283442\",\"linecolor\":\"#506784\",\"ticks\":\"\",\"title\":{\"standoff\":15},\"zerolinecolor\":\"#283442\",\"zerolinewidth\":2}}},\"xaxis\":{\"anchor\":\"y\",\"domain\":[0.0,1.0],\"title\":{\"text\":\"Last Update\"}},\"yaxis\":{\"anchor\":\"x\",\"domain\":[0.0,1.0],\"title\":{\"text\":\"Confirmed\"}},\"legend\":{\"tracegroupgap\":0},\"title\":{\"text\":\"Worldwide Confirmed Novel Coronavirus(COVID-19) Cases Over Time\"}},                        {\"responsive\": true}                    ).then(function(){\n",
              "                            \n",
              "var gd = document.getElementById('2e2b6751-5ecc-405b-be31-41056eae39fa');\n",
              "var x = new MutationObserver(function (mutations, observer) {{\n",
              "        var display = window.getComputedStyle(gd).display;\n",
              "        if (!display || display === 'none') {{\n",
              "            console.log([gd, 'removed!']);\n",
              "            Plotly.purge(gd);\n",
              "            observer.disconnect();\n",
              "        }}\n",
              "}});\n",
              "\n",
              "// Listen for the removal of the full notebook cells\n",
              "var notebookContainer = gd.closest('#notebook-container');\n",
              "if (notebookContainer) {{\n",
              "    x.observe(notebookContainer, {childList: true});\n",
              "}}\n",
              "\n",
              "// Listen for the clearing of the current output cell\n",
              "var outputEl = gd.closest('.output');\n",
              "if (outputEl) {{\n",
              "    x.observe(outputEl, {childList: true});\n",
              "}}\n",
              "\n",
              "                        })                };                            </script>        </div>\n",
              "</body>\n",
              "</html>"
            ]
          },
          "metadata": {}
        }
      ]
    }
  ]
}